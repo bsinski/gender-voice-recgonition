{
 "cells": [
  {
   "cell_type": "code",
   "execution_count": 208,
   "metadata": {},
   "outputs": [],
   "source": [
    "import pandas as pd\n",
    "from matplotlib import pyplot as plt\n",
    "import seaborn as sns\n",
    "import numpy as np\n",
    "import copy"
   ]
  },
  {
   "cell_type": "code",
   "execution_count": 209,
   "metadata": {},
   "outputs": [],
   "source": [
    "# loading data\n",
    "df_voice = pd.read_csv(\"./src/gender_voice_dataset.csv\")"
   ]
  },
  {
   "cell_type": "markdown",
   "metadata": {},
   "source": [
    "# Feature engineering\n"
   ]
  },
  {
   "cell_type": "markdown",
   "metadata": {},
   "source": [
    "## Missing values"
   ]
  },
  {
   "cell_type": "code",
   "execution_count": 210,
   "metadata": {},
   "outputs": [
    {
     "data": {
      "text/plain": [
       "meanfreq    0\n",
       "sd          0\n",
       "median      0\n",
       "Q25         0\n",
       "Q75         0\n",
       "IQR         0\n",
       "skew        0\n",
       "kurt        0\n",
       "sp.ent      0\n",
       "sfm         0\n",
       "mode        0\n",
       "centroid    0\n",
       "meanfun     0\n",
       "minfun      0\n",
       "maxfun      0\n",
       "meandom     0\n",
       "mindom      0\n",
       "maxdom      0\n",
       "dfrange     0\n",
       "modindx     0\n",
       "label       0\n",
       "dtype: int64"
      ]
     },
     "execution_count": 210,
     "metadata": {},
     "output_type": "execute_result"
    }
   ],
   "source": [
    "df_voice.isna().sum()"
   ]
  },
  {
   "cell_type": "markdown",
   "metadata": {},
   "source": [
    "Nie mamy żadnych brakujących wartości więc nie musimy się przejmować wypełnianiem braków."
   ]
  },
  {
   "cell_type": "markdown",
   "metadata": {},
   "source": [
    "## Outliers"
   ]
  },
  {
   "cell_type": "markdown",
   "metadata": {},
   "source": [
    "---"
   ]
  },
  {
   "cell_type": "code",
   "execution_count": 211,
   "metadata": {},
   "outputs": [
    {
     "data": {
      "text/plain": [
       "(3168, 21)"
      ]
     },
     "execution_count": 211,
     "metadata": {},
     "output_type": "execute_result"
    }
   ],
   "source": [
    "df_voice.shape"
   ]
  },
  {
   "cell_type": "code",
   "execution_count": 212,
   "metadata": {},
   "outputs": [],
   "source": [
    "columns = df_voice.columns[1:20]   \n",
    "for column in columns:\n",
    "    factor = 4\n",
    "    upper_lim = df_voice[column].mean () + df_voice[column].std () * factor\n",
    "    lower_lim = df_voice[column].mean () - df_voice[column].std () * factor\n",
    "    df_voice = df_voice[(df_voice[column] < upper_lim) & (df_voice[column] > lower_lim)]\n",
    "df_voice.reset_index(inplace = True)\n",
    "df_voice.drop(axis = 1, columns = ['index'], inplace = True)"
   ]
  },
  {
   "cell_type": "code",
   "execution_count": 213,
   "metadata": {
    "scrolled": true
   },
   "outputs": [
    {
     "data": {
      "text/plain": [
       "(2949, 21)"
      ]
     },
     "execution_count": 213,
     "metadata": {},
     "output_type": "execute_result"
    }
   ],
   "source": [
    "df_voice.shape"
   ]
  },
  {
   "cell_type": "markdown",
   "metadata": {},
   "source": [
    "# Usuwamy mocno skorelowane kolumny"
   ]
  },
  {
   "cell_type": "markdown",
   "metadata": {},
   "source": [
    "---"
   ]
  },
  {
   "cell_type": "code",
   "execution_count": 1,
   "metadata": {},
   "outputs": [
    {
     "ename": "NameError",
     "evalue": "name 'df_voice' is not defined",
     "output_type": "error",
     "traceback": [
      "\u001b[1;31m---------------------------------------------------------------------------\u001b[0m",
      "\u001b[1;31mNameError\u001b[0m                                 Traceback (most recent call last)",
      "\u001b[1;32m<ipython-input-1-62d0e246c7a0>\u001b[0m in \u001b[0;36m<module>\u001b[1;34m\u001b[0m\n\u001b[1;32m----> 1\u001b[1;33m \u001b[0mc\u001b[0m \u001b[1;33m=\u001b[0m \u001b[0mdf_voice\u001b[0m\u001b[1;33m.\u001b[0m\u001b[0mcorr\u001b[0m\u001b[1;33m(\u001b[0m\u001b[1;33m)\u001b[0m\u001b[1;33m.\u001b[0m\u001b[0mabs\u001b[0m\u001b[1;33m(\u001b[0m\u001b[1;33m)\u001b[0m\u001b[1;33m\u001b[0m\u001b[1;33m\u001b[0m\u001b[0m\n\u001b[0m\u001b[0;32m      2\u001b[0m \u001b[0ms\u001b[0m \u001b[1;33m=\u001b[0m \u001b[0mc\u001b[0m\u001b[1;33m.\u001b[0m\u001b[0munstack\u001b[0m\u001b[1;33m(\u001b[0m\u001b[1;33m)\u001b[0m\u001b[1;33m\u001b[0m\u001b[1;33m\u001b[0m\u001b[0m\n\u001b[0;32m      3\u001b[0m \u001b[0mso\u001b[0m \u001b[1;33m=\u001b[0m \u001b[0ms\u001b[0m\u001b[1;33m.\u001b[0m\u001b[0msort_values\u001b[0m\u001b[1;33m(\u001b[0m\u001b[0mkind\u001b[0m\u001b[1;33m=\u001b[0m\u001b[1;34m\"quicksort\"\u001b[0m\u001b[1;33m)\u001b[0m\u001b[1;33m\u001b[0m\u001b[1;33m\u001b[0m\u001b[0m\n\u001b[0;32m      4\u001b[0m \u001b[0mso\u001b[0m \u001b[1;33m=\u001b[0m \u001b[0mso\u001b[0m\u001b[1;33m.\u001b[0m\u001b[0mloc\u001b[0m\u001b[1;33m[\u001b[0m\u001b[1;33m(\u001b[0m\u001b[0mso\u001b[0m \u001b[1;33m<\u001b[0m \u001b[1;36m1\u001b[0m\u001b[1;33m)\u001b[0m \u001b[1;33m&\u001b[0m \u001b[1;33m(\u001b[0m\u001b[0mso\u001b[0m \u001b[1;33m>\u001b[0m \u001b[1;36m0.8\u001b[0m\u001b[1;33m)\u001b[0m\u001b[1;33m]\u001b[0m\u001b[1;33m\u001b[0m\u001b[1;33m\u001b[0m\u001b[0m\n\u001b[0;32m      5\u001b[0m \u001b[0mtype\u001b[0m\u001b[1;33m(\u001b[0m\u001b[0mso\u001b[0m\u001b[1;33m)\u001b[0m\u001b[1;33m\u001b[0m\u001b[1;33m\u001b[0m\u001b[0m\n",
      "\u001b[1;31mNameError\u001b[0m: name 'df_voice' is not defined"
     ]
    }
   ],
   "source": [
    "c = df_voice.corr().abs()\n",
    "s = c.unstack()\n",
    "so = s.sort_values(kind=\"quicksort\")\n",
    "so = so.loc[(so < 1) & (so > 0.8)]\n",
    "type(so)\n",
    "so[::-1]"
   ]
  },
  {
   "cell_type": "code",
   "execution_count": 215,
   "metadata": {},
   "outputs": [],
   "source": [
    "df_voice.drop(axis = 1, columns=['maxdom','meanfreq','centroid','skew',\"sfm\",\"sp.ent\",\"sd\"],inplace = True)"
   ]
  },
  {
   "cell_type": "code",
   "execution_count": 216,
   "metadata": {},
   "outputs": [
    {
     "data": {
      "text/plain": [
       "(2949, 14)"
      ]
     },
     "execution_count": 216,
     "metadata": {},
     "output_type": "execute_result"
    }
   ],
   "source": [
    "df_voice.shape"
   ]
  },
  {
   "cell_type": "code",
   "execution_count": 217,
   "metadata": {
    "scrolled": true
   },
   "outputs": [
    {
     "data": {
      "text/html": [
       "<div>\n",
       "<style scoped>\n",
       "    .dataframe tbody tr th:only-of-type {\n",
       "        vertical-align: middle;\n",
       "    }\n",
       "\n",
       "    .dataframe tbody tr th {\n",
       "        vertical-align: top;\n",
       "    }\n",
       "\n",
       "    .dataframe thead th {\n",
       "        text-align: right;\n",
       "    }\n",
       "</style>\n",
       "<table border=\"1\" class=\"dataframe\">\n",
       "  <thead>\n",
       "    <tr style=\"text-align: right;\">\n",
       "      <th></th>\n",
       "      <th>median</th>\n",
       "      <th>Q25</th>\n",
       "      <th>Q75</th>\n",
       "      <th>IQR</th>\n",
       "      <th>kurt</th>\n",
       "      <th>mode</th>\n",
       "      <th>meanfun</th>\n",
       "      <th>minfun</th>\n",
       "      <th>maxfun</th>\n",
       "      <th>meandom</th>\n",
       "      <th>mindom</th>\n",
       "      <th>dfrange</th>\n",
       "      <th>modindx</th>\n",
       "    </tr>\n",
       "  </thead>\n",
       "  <tbody>\n",
       "    <tr>\n",
       "      <th>count</th>\n",
       "      <td>2949.000000</td>\n",
       "      <td>2949.000000</td>\n",
       "      <td>2949.000000</td>\n",
       "      <td>2949.000000</td>\n",
       "      <td>2949.000000</td>\n",
       "      <td>2949.000000</td>\n",
       "      <td>2949.000000</td>\n",
       "      <td>2949.000000</td>\n",
       "      <td>2949.000000</td>\n",
       "      <td>2949.000000</td>\n",
       "      <td>2949.000000</td>\n",
       "      <td>2949.000000</td>\n",
       "      <td>2949.000000</td>\n",
       "    </tr>\n",
       "    <tr>\n",
       "      <th>mean</th>\n",
       "      <td>0.188208</td>\n",
       "      <td>0.144507</td>\n",
       "      <td>0.226066</td>\n",
       "      <td>0.081558</td>\n",
       "      <td>12.200320</td>\n",
       "      <td>0.172420</td>\n",
       "      <td>0.144361</td>\n",
       "      <td>0.036623</td>\n",
       "      <td>0.260189</td>\n",
       "      <td>0.863398</td>\n",
       "      <td>0.052433</td>\n",
       "      <td>5.176516</td>\n",
       "      <td>0.171745</td>\n",
       "    </tr>\n",
       "    <tr>\n",
       "      <th>std</th>\n",
       "      <td>0.033759</td>\n",
       "      <td>0.045143</td>\n",
       "      <td>0.022216</td>\n",
       "      <td>0.040448</td>\n",
       "      <td>15.659715</td>\n",
       "      <td>0.071832</td>\n",
       "      <td>0.030800</td>\n",
       "      <td>0.016271</td>\n",
       "      <td>0.027751</td>\n",
       "      <td>0.507932</td>\n",
       "      <td>0.061858</td>\n",
       "      <td>3.251309</td>\n",
       "      <td>0.102546</td>\n",
       "    </tr>\n",
       "    <tr>\n",
       "      <th>min</th>\n",
       "      <td>0.040976</td>\n",
       "      <td>0.002119</td>\n",
       "      <td>0.135023</td>\n",
       "      <td>0.014922</td>\n",
       "      <td>2.068455</td>\n",
       "      <td>0.000000</td>\n",
       "      <td>0.055565</td>\n",
       "      <td>0.009775</td>\n",
       "      <td>0.138889</td>\n",
       "      <td>0.030331</td>\n",
       "      <td>0.004883</td>\n",
       "      <td>0.019531</td>\n",
       "      <td>0.019881</td>\n",
       "    </tr>\n",
       "    <tr>\n",
       "      <th>25%</th>\n",
       "      <td>0.172308</td>\n",
       "      <td>0.117253</td>\n",
       "      <td>0.209596</td>\n",
       "      <td>0.041830</td>\n",
       "      <td>5.525481</td>\n",
       "      <td>0.130878</td>\n",
       "      <td>0.119456</td>\n",
       "      <td>0.018735</td>\n",
       "      <td>0.253968</td>\n",
       "      <td>0.460938</td>\n",
       "      <td>0.007812</td>\n",
       "      <td>3.046875</td>\n",
       "      <td>0.103387</td>\n",
       "    </tr>\n",
       "    <tr>\n",
       "      <th>50%</th>\n",
       "      <td>0.191191</td>\n",
       "      <td>0.142745</td>\n",
       "      <td>0.227254</td>\n",
       "      <td>0.090769</td>\n",
       "      <td>8.014466</td>\n",
       "      <td>0.190129</td>\n",
       "      <td>0.142627</td>\n",
       "      <td>0.046921</td>\n",
       "      <td>0.272727</td>\n",
       "      <td>0.799267</td>\n",
       "      <td>0.023438</td>\n",
       "      <td>5.132812</td>\n",
       "      <td>0.141026</td>\n",
       "    </tr>\n",
       "    <tr>\n",
       "      <th>75%</th>\n",
       "      <td>0.211903</td>\n",
       "      <td>0.176935</td>\n",
       "      <td>0.244356</td>\n",
       "      <td>0.112812</td>\n",
       "      <td>12.686097</td>\n",
       "      <td>0.223524</td>\n",
       "      <td>0.169677</td>\n",
       "      <td>0.047952</td>\n",
       "      <td>0.277457</td>\n",
       "      <td>1.200000</td>\n",
       "      <td>0.070312</td>\n",
       "      <td>7.242188</td>\n",
       "      <td>0.208218</td>\n",
       "    </tr>\n",
       "    <tr>\n",
       "      <th>max</th>\n",
       "      <td>0.261224</td>\n",
       "      <td>0.247347</td>\n",
       "      <td>0.273469</td>\n",
       "      <td>0.195527</td>\n",
       "      <td>175.696791</td>\n",
       "      <td>0.280000</td>\n",
       "      <td>0.231135</td>\n",
       "      <td>0.111111</td>\n",
       "      <td>0.279114</td>\n",
       "      <td>2.805246</td>\n",
       "      <td>0.281250</td>\n",
       "      <td>18.164062</td>\n",
       "      <td>0.633584</td>\n",
       "    </tr>\n",
       "  </tbody>\n",
       "</table>\n",
       "</div>"
      ],
      "text/plain": [
       "            median          Q25          Q75          IQR         kurt  \\\n",
       "count  2949.000000  2949.000000  2949.000000  2949.000000  2949.000000   \n",
       "mean      0.188208     0.144507     0.226066     0.081558    12.200320   \n",
       "std       0.033759     0.045143     0.022216     0.040448    15.659715   \n",
       "min       0.040976     0.002119     0.135023     0.014922     2.068455   \n",
       "25%       0.172308     0.117253     0.209596     0.041830     5.525481   \n",
       "50%       0.191191     0.142745     0.227254     0.090769     8.014466   \n",
       "75%       0.211903     0.176935     0.244356     0.112812    12.686097   \n",
       "max       0.261224     0.247347     0.273469     0.195527   175.696791   \n",
       "\n",
       "              mode      meanfun       minfun       maxfun      meandom  \\\n",
       "count  2949.000000  2949.000000  2949.000000  2949.000000  2949.000000   \n",
       "mean      0.172420     0.144361     0.036623     0.260189     0.863398   \n",
       "std       0.071832     0.030800     0.016271     0.027751     0.507932   \n",
       "min       0.000000     0.055565     0.009775     0.138889     0.030331   \n",
       "25%       0.130878     0.119456     0.018735     0.253968     0.460938   \n",
       "50%       0.190129     0.142627     0.046921     0.272727     0.799267   \n",
       "75%       0.223524     0.169677     0.047952     0.277457     1.200000   \n",
       "max       0.280000     0.231135     0.111111     0.279114     2.805246   \n",
       "\n",
       "            mindom      dfrange      modindx  \n",
       "count  2949.000000  2949.000000  2949.000000  \n",
       "mean      0.052433     5.176516     0.171745  \n",
       "std       0.061858     3.251309     0.102546  \n",
       "min       0.004883     0.019531     0.019881  \n",
       "25%       0.007812     3.046875     0.103387  \n",
       "50%       0.023438     5.132812     0.141026  \n",
       "75%       0.070312     7.242188     0.208218  \n",
       "max       0.281250    18.164062     0.633584  "
      ]
     },
     "execution_count": 217,
     "metadata": {},
     "output_type": "execute_result"
    }
   ],
   "source": [
    "df_voice.describe()"
   ]
  },
  {
   "cell_type": "code",
   "execution_count": 218,
   "metadata": {
    "scrolled": false
   },
   "outputs": [
    {
     "data": {
      "image/png": "[encoded data removed]",
      "text/plain": [
       "<Figure size 1296x864 with 16 Axes>"
      ]
     },
     "metadata": {
      "needs_background": "light"
     },
     "output_type": "display_data"
    }
   ],
   "source": [
    "df_voice.hist(bins = 40, figsize=(18, 12))\n",
    "plt.show()"
   ]
  },
  {
   "cell_type": "markdown",
   "metadata": {},
   "source": [
    "# Standaryzacja"
   ]
  },
  {
   "cell_type": "markdown",
   "metadata": {},
   "source": [
    "Standaryzujemy dane aby były zcentrowane do zera i żeby ich wariancje były tego samego rzędu. Robimy to po to, aby żadna zmienna nie dominowała i model mógł się uczyć na wszystkich zmiennych."
   ]
  },
  {
   "cell_type": "code",
   "execution_count": 261,
   "metadata": {},
   "outputs": [
    {
     "data": {
      "text/html": [
       "<div>\n",
       "<style scoped>\n",
       "    .dataframe tbody tr th:only-of-type {\n",
       "        vertical-align: middle;\n",
       "    }\n",
       "\n",
       "    .dataframe tbody tr th {\n",
       "        vertical-align: top;\n",
       "    }\n",
       "\n",
       "    .dataframe thead th {\n",
       "        text-align: right;\n",
       "    }\n",
       "</style>\n",
       "<table border=\"1\" class=\"dataframe\">\n",
       "  <thead>\n",
       "    <tr style=\"text-align: right;\">\n",
       "      <th></th>\n",
       "      <th>median</th>\n",
       "      <th>Q25</th>\n",
       "      <th>Q75</th>\n",
       "      <th>IQR</th>\n",
       "      <th>kurt</th>\n",
       "      <th>mode</th>\n",
       "      <th>meanfun</th>\n",
       "      <th>minfun</th>\n",
       "      <th>maxfun</th>\n",
       "      <th>meandom</th>\n",
       "      <th>mindom</th>\n",
       "      <th>dfrange</th>\n",
       "      <th>modindx</th>\n",
       "    </tr>\n",
       "  </thead>\n",
       "  <tbody>\n",
       "    <tr>\n",
       "      <th>count</th>\n",
       "      <td>2.949000e+03</td>\n",
       "      <td>2.949000e+03</td>\n",
       "      <td>2.949000e+03</td>\n",
       "      <td>2.949000e+03</td>\n",
       "      <td>2.949000e+03</td>\n",
       "      <td>2.949000e+03</td>\n",
       "      <td>2.949000e+03</td>\n",
       "      <td>2.949000e+03</td>\n",
       "      <td>2.949000e+03</td>\n",
       "      <td>2.949000e+03</td>\n",
       "      <td>2.949000e+03</td>\n",
       "      <td>2.949000e+03</td>\n",
       "      <td>2.949000e+03</td>\n",
       "    </tr>\n",
       "    <tr>\n",
       "      <th>mean</th>\n",
       "      <td>-3.276833e-16</td>\n",
       "      <td>-3.469588e-16</td>\n",
       "      <td>1.310733e-15</td>\n",
       "      <td>7.710196e-17</td>\n",
       "      <td>-5.204382e-16</td>\n",
       "      <td>1.542039e-16</td>\n",
       "      <td>-4.626118e-16</td>\n",
       "      <td>1.734794e-16</td>\n",
       "      <td>4.047853e-16</td>\n",
       "      <td>-2.313059e-16</td>\n",
       "      <td>-3.855098e-17</td>\n",
       "      <td>1.252907e-16</td>\n",
       "      <td>-6.264534e-17</td>\n",
       "    </tr>\n",
       "    <tr>\n",
       "      <th>std</th>\n",
       "      <td>1.000170e+00</td>\n",
       "      <td>1.000170e+00</td>\n",
       "      <td>1.000170e+00</td>\n",
       "      <td>1.000170e+00</td>\n",
       "      <td>1.000170e+00</td>\n",
       "      <td>1.000170e+00</td>\n",
       "      <td>1.000170e+00</td>\n",
       "      <td>1.000170e+00</td>\n",
       "      <td>1.000170e+00</td>\n",
       "      <td>1.000170e+00</td>\n",
       "      <td>1.000170e+00</td>\n",
       "      <td>1.000170e+00</td>\n",
       "      <td>1.000170e+00</td>\n",
       "    </tr>\n",
       "    <tr>\n",
       "      <th>min</th>\n",
       "      <td>-4.362076e+00</td>\n",
       "      <td>-3.154668e+00</td>\n",
       "      <td>-4.098841e+00</td>\n",
       "      <td>-1.647735e+00</td>\n",
       "      <td>-2.146557e+00</td>\n",
       "      <td>-2.400750e+00</td>\n",
       "      <td>-2.883410e+00</td>\n",
       "      <td>-1.650307e+00</td>\n",
       "      <td>-4.371693e+00</td>\n",
       "      <td>-1.640394e+00</td>\n",
       "      <td>-7.688267e-01</td>\n",
       "      <td>-4.954654e+00</td>\n",
       "      <td>-1.481178e+00</td>\n",
       "    </tr>\n",
       "    <tr>\n",
       "      <th>25%</th>\n",
       "      <td>-4.710793e-01</td>\n",
       "      <td>-6.038348e-01</td>\n",
       "      <td>-7.414738e-01</td>\n",
       "      <td>-9.823819e-01</td>\n",
       "      <td>-7.034739e-01</td>\n",
       "      <td>-5.784319e-01</td>\n",
       "      <td>-8.087174e-01</td>\n",
       "      <td>-1.099528e+00</td>\n",
       "      <td>-2.241812e-01</td>\n",
       "      <td>-7.924862e-01</td>\n",
       "      <td>-7.214569e-01</td>\n",
       "      <td>-1.625134e-01</td>\n",
       "      <td>-6.667216e-01</td>\n",
       "    </tr>\n",
       "    <tr>\n",
       "      <th>50%</th>\n",
       "      <td>8.839287e-02</td>\n",
       "      <td>-3.904454e-02</td>\n",
       "      <td>5.348298e-02</td>\n",
       "      <td>2.277668e-01</td>\n",
       "      <td>-1.573025e-01</td>\n",
       "      <td>2.465741e-01</td>\n",
       "      <td>-5.629299e-02</td>\n",
       "      <td>6.330205e-01</td>\n",
       "      <td>4.519023e-01</td>\n",
       "      <td>-1.262821e-01</td>\n",
       "      <td>-4.688177e-01</td>\n",
       "      <td>3.324077e-01</td>\n",
       "      <td>-2.996157e-01</td>\n",
       "    </tr>\n",
       "    <tr>\n",
       "      <th>75%</th>\n",
       "      <td>7.020267e-01</td>\n",
       "      <td>7.184529e-01</td>\n",
       "      <td>8.234454e-01</td>\n",
       "      <td>7.728197e-01</td>\n",
       "      <td>5.172036e-01</td>\n",
       "      <td>7.115593e-01</td>\n",
       "      <td>8.220824e-01</td>\n",
       "      <td>6.964096e-01</td>\n",
       "      <td>6.223510e-01</td>\n",
       "      <td>6.628023e-01</td>\n",
       "      <td>2.890998e-01</td>\n",
       "      <td>6.591078e-01</td>\n",
       "      <td>3.557332e-01</td>\n",
       "    </tr>\n",
       "    <tr>\n",
       "      <th>max</th>\n",
       "      <td>2.163273e+00</td>\n",
       "      <td>2.278455e+00</td>\n",
       "      <td>2.134166e+00</td>\n",
       "      <td>2.818158e+00</td>\n",
       "      <td>4.377280e+00</td>\n",
       "      <td>1.497922e+00</td>\n",
       "      <td>2.817796e+00</td>\n",
       "      <td>4.578770e+00</td>\n",
       "      <td>6.820800e-01</td>\n",
       "      <td>3.823693e+00</td>\n",
       "      <td>3.699729e+00</td>\n",
       "      <td>1.531702e+00</td>\n",
       "      <td>4.504475e+00</td>\n",
       "    </tr>\n",
       "  </tbody>\n",
       "</table>\n",
       "</div>"
      ],
      "text/plain": [
       "             median           Q25           Q75           IQR          kurt  \\\n",
       "count  2.949000e+03  2.949000e+03  2.949000e+03  2.949000e+03  2.949000e+03   \n",
       "mean  -3.276833e-16 -3.469588e-16  1.310733e-15  7.710196e-17 -5.204382e-16   \n",
       "std    1.000170e+00  1.000170e+00  1.000170e+00  1.000170e+00  1.000170e+00   \n",
       "min   -4.362076e+00 -3.154668e+00 -4.098841e+00 -1.647735e+00 -2.146557e+00   \n",
       "25%   -4.710793e-01 -6.038348e-01 -7.414738e-01 -9.823819e-01 -7.034739e-01   \n",
       "50%    8.839287e-02 -3.904454e-02  5.348298e-02  2.277668e-01 -1.573025e-01   \n",
       "75%    7.020267e-01  7.184529e-01  8.234454e-01  7.728197e-01  5.172036e-01   \n",
       "max    2.163273e+00  2.278455e+00  2.134166e+00  2.818158e+00  4.377280e+00   \n",
       "\n",
       "               mode       meanfun        minfun        maxfun       meandom  \\\n",
       "count  2.949000e+03  2.949000e+03  2.949000e+03  2.949000e+03  2.949000e+03   \n",
       "mean   1.542039e-16 -4.626118e-16  1.734794e-16  4.047853e-16 -2.313059e-16   \n",
       "std    1.000170e+00  1.000170e+00  1.000170e+00  1.000170e+00  1.000170e+00   \n",
       "min   -2.400750e+00 -2.883410e+00 -1.650307e+00 -4.371693e+00 -1.640394e+00   \n",
       "25%   -5.784319e-01 -8.087174e-01 -1.099528e+00 -2.241812e-01 -7.924862e-01   \n",
       "50%    2.465741e-01 -5.629299e-02  6.330205e-01  4.519023e-01 -1.262821e-01   \n",
       "75%    7.115593e-01  8.220824e-01  6.964096e-01  6.223510e-01  6.628023e-01   \n",
       "max    1.497922e+00  2.817796e+00  4.578770e+00  6.820800e-01  3.823693e+00   \n",
       "\n",
       "             mindom       dfrange       modindx  \n",
       "count  2.949000e+03  2.949000e+03  2.949000e+03  \n",
       "mean  -3.855098e-17  1.252907e-16 -6.264534e-17  \n",
       "std    1.000170e+00  1.000170e+00  1.000170e+00  \n",
       "min   -7.688267e-01 -4.954654e+00 -1.481178e+00  \n",
       "25%   -7.214569e-01 -1.625134e-01 -6.667216e-01  \n",
       "50%   -4.688177e-01  3.324077e-01 -2.996157e-01  \n",
       "75%    2.890998e-01  6.591078e-01  3.557332e-01  \n",
       "max    3.699729e+00  1.531702e+00  4.504475e+00  "
      ]
     },
     "execution_count": 261,
     "metadata": {},
     "output_type": "execute_result"
    }
   ],
   "source": [
    "from sklearn import preprocessing\n",
    "scaler = preprocessing.StandardScaler().fit(df_voice.drop(\"label\",axis=1))\n",
    "df_voice_standard = pd.DataFrame(scaler.transform(df_voice.drop(\"label\",axis=1)),columns=['median','Q25','Q75','IQR','kurt','mode','meanfun','minfun','maxfun','meandom','mindom','dfrange','modindx'])\n",
    "df_voice_standard.describe()"
   ]
  },
  {
   "cell_type": "code",
   "execution_count": 243,
   "metadata": {},
   "outputs": [
    {
     "data": {
      "image/png": "[encoded data removed]",
      "text/plain": [
       "<Figure size 1296x864 with 16 Axes>"
      ]
     },
     "metadata": {
      "needs_background": "light"
     },
     "output_type": "display_data"
    }
   ],
   "source": [
    "df_voice_standard.hist(bins = 40, figsize=(18, 12))\n",
    "plt.show()"
   ]
  },
  {
   "cell_type": "markdown",
   "metadata": {},
   "source": [
    "# Dyskretyzacja"
   ]
  },
  {
   "cell_type": "markdown",
   "metadata": {},
   "source": [
    "Dyskretyzacji używamy dla nieregularnych rozkładów *mode i dfrange* aby nasze modele lepiej sobie z nimi radziły."
   ]
  },
  {
   "cell_type": "code",
   "execution_count": 262,
   "metadata": {
    "scrolled": true
   },
   "outputs": [],
   "source": [
    "disc = preprocessing.KBinsDiscretizer(n_bins=20, encode='ordinal',strategy=\"uniform\").fit(df_voice_standard[['mode','dfrange']])\n",
    "df_voice_standard[['mode','dfrange']] = disc.transform(df_voice_standard[['mode','dfrange']])"
   ]
  },
  {
   "cell_type": "code",
   "execution_count": 253,
   "metadata": {
    "scrolled": false
   },
   "outputs": [
    {
     "data": {
      "image/png": "[encoded data removed]",
      "text/plain": [
       "<Figure size 1296x864 with 16 Axes>"
      ]
     },
     "metadata": {
      "needs_background": "light"
     },
     "output_type": "display_data"
    }
   ],
   "source": [
    "df_voice_standard.hist(bins = 40, figsize=(18, 12))\n",
    "plt.show()"
   ]
  },
  {
   "cell_type": "markdown",
   "metadata": {},
   "source": [
    "# Baseline model"
   ]
  },
  {
   "cell_type": "code",
   "execution_count": 228,
   "metadata": {},
   "outputs": [],
   "source": [
    "df_voice_disc['label'] = df_voice[['label']]\n",
    "df_voice_standard['label'] = df_voice[['label']]"
   ]
  },
  {
   "cell_type": "code",
   "execution_count": 229,
   "metadata": {},
   "outputs": [],
   "source": [
    "def baseline_model(data):\n",
    "    ## warunek meanfun < 0.13 -> male, otherwise: female\n",
    "    suma = 0\n",
    "    for i in range(len(data)):\n",
    "        if(data[\"meanfun\"][i] < 0.14):\n",
    "            predicted = 'male'\n",
    "        else:\n",
    "            predicted = 'female'\n",
    "        if(predicted == data['label'][i]):\n",
    "            suma = suma + 1\n",
    "    return suma / len(data)"
   ]
  },
  {
   "cell_type": "code",
   "execution_count": 230,
   "metadata": {},
   "outputs": [
    {
     "data": {
      "text/plain": [
       "0.9501525940996948"
      ]
     },
     "execution_count": 230,
     "metadata": {},
     "output_type": "execute_result"
    }
   ],
   "source": [
    "baseline_model(df_voice)"
   ]
  },
  {
   "cell_type": "markdown",
   "metadata": {},
   "source": [
    "# Baseline model x2\n",
    "Drugi baselinowym modelem będzie regresja logistyczna bez regularyzacji."
   ]
  },
  {
   "cell_type": "code",
   "execution_count": 263,
   "metadata": {
    "scrolled": false
   },
   "outputs": [
    {
     "name": "stderr",
     "output_type": "stream",
     "text": [
      "C:\\Users\\komp\\AppData\\Local\\Packages\\PythonSoftwareFoundation.Python.3.8_qbz5n2kfra8p0\\LocalCache\\local-packages\\Python38\\site-packages\\sklearn\\utils\\validation.py:63: DataConversionWarning: A column-vector y was passed when a 1d array was expected. Please change the shape of y to (n_samples, ), for example using ravel().\n",
      "  return f(*args, **kwargs)\n"
     ]
    },
    {
     "data": {
      "text/plain": [
       "0.9807909604519774"
      ]
     },
     "execution_count": 263,
     "metadata": {},
     "output_type": "execute_result"
    }
   ],
   "source": [
    "# ze standaryzacją \n",
    "from sklearn.model_selection import train_test_split\n",
    "from sklearn.linear_model import LogisticRegression\n",
    "from sklearn.metrics import accuracy_score\n",
    "df_voice_standard['label'] = df_voice[['label']]\n",
    "X = df_voice_standard.drop('label',axis=1)\n",
    "y=df_voice_standard[['label']]\n",
    "X_train, X_test, y_train, y_test = train_test_split(\n",
    "    X, y, stratify=y, test_size=0.3, random_state=42\n",
    ")\n",
    "lr_base = LogisticRegression(max_iter=1000,penalty=\"none\").fit(X_train,y_train)\n",
    "y_pred = lr_base.predict(X_test)\n",
    "accuracy_score(y_test,y_pred)"
   ]
  }
 ],
 "metadata": {
  "kernelspec": {
   "display_name": "Python 3",
   "language": "python",
   "name": "python3"
  },
  "language_info": {
   "codemirror_mode": {
    "name": "ipython",
    "version": 3
   },
   "file_extension": ".py",
   "mimetype": "text/x-python",
   "name": "python",
   "nbconvert_exporter": "python",
   "pygments_lexer": "ipython3",
   "version": "3.8.10"
  }
 },
 "nbformat": 4,
 "nbformat_minor": 4
}
