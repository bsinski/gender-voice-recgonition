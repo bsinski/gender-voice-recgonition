{
 "cells": [
  {
   "cell_type": "code",
   "execution_count": 24,
   "id": "minimal-encounter",
   "metadata": {},
   "outputs": [],
   "source": [
    "import pandas as pd\n",
    "import numpy as np\n",
    "from sklearn.svm import SVC\n",
    "from matplotlib import pyplot as plt\n",
    "from sklearn.metrics import accuracy_score\n",
    "from sklearn.model_selection import RandomizedSearchCV\n",
    "from sklearn.model_selection import train_test_split\n",
    "from sklearn.model_selection import GridSearchCV\n",
    "from sklearn.preprocessing import PolynomialFeatures\n",
    "from sklearn.pipeline import Pipeline\n",
    "from sklearn.feature_selection import SelectKBest\n",
    "np.seed=42"
   ]
  },
  {
   "cell_type": "code",
   "execution_count": 31,
   "id": "acute-finnish",
   "metadata": {},
   "outputs": [],
   "source": [
    "df_voice = pd.read_csv(\"./src/gender_voice_dataset.csv\")\n",
    "df_voice[\"gender\"] = df_voice.apply(lambda row: 1 if row.label == 'male' else 0, axis = 1)\n",
    "df_voice = df_voice.drop(\"label\",axis=1)"
   ]
  },
  {
   "cell_type": "code",
   "execution_count": 32,
   "id": "continuing-sudan",
   "metadata": {
    "scrolled": true
   },
   "outputs": [],
   "source": [
    "columns = df_voice.columns[1:20]   \n",
    "for column in columns:\n",
    "    factor = 4\n",
    "    upper_lim = df_voice[column].mean () + df_voice[column].std () * factor\n",
    "    lower_lim = df_voice[column].mean () - df_voice[column].std () * factor\n",
    "    df_voice = df_voice[(df_voice[column] < upper_lim) & (df_voice[column] > lower_lim)]\n",
    "df_voice.reset_index(inplace = True)\n",
    "df_voice.drop(axis = 1, columns = ['index'], inplace = True)"
   ]
  },
  {
   "cell_type": "code",
   "execution_count": 39,
   "id": "silver-worcester",
   "metadata": {},
   "outputs": [],
   "source": [
    "from sklearn import preprocessing\n",
    "df_voice.reset_index(drop=True, inplace=True)\n",
    "scaler = preprocessing.StandardScaler().fit(df_voice.drop(\"gender\",axis=1))\n",
    "df_voice_standard = scaler.transform(df_voice.drop(\"gender\",axis=1))\n",
    "X = df_voice_standard\n",
    "y = df_voice[['gender']]\n",
    "X_train, X_test, y_train, y_test = train_test_split(X, y, stratify=y,random_state = 42)"
   ]
  },
  {
   "cell_type": "code",
   "execution_count": 40,
   "id": "protected-musician",
   "metadata": {},
   "outputs": [
    {
     "data": {
      "text/plain": [
       "0.991869918699187"
      ]
     },
     "execution_count": 40,
     "metadata": {},
     "output_type": "execute_result"
    }
   ],
   "source": [
    "test1 = SVC(random_state=42).fit(X_train,y_train)\n",
    "accuracy_score(test1.predict(X_test),y_test)"
   ]
  },
  {
   "cell_type": "code",
   "execution_count": 42,
   "id": "sophisticated-adoption",
   "metadata": {},
   "outputs": [
    {
     "data": {
      "text/plain": [
       "0.9905149051490515"
      ]
     },
     "execution_count": 42,
     "metadata": {},
     "output_type": "execute_result"
    }
   ],
   "source": [
    "import warnings\n",
    "pipe = Pipeline([\n",
    "    ('feature_selection', SelectKBest(k=10)),\n",
    "    ('classifier',SVC(random_state=42))\n",
    "])\n",
    "warnings.filterwarnings(\"ignore\")\n",
    "grid = { 'classifier__C' : [0.001,0.01,0.1,10,100,1000],\n",
    "              'classifier__kernel' : [\"rbf\",\"linear\", \"poly\"],\n",
    "              'classifier__gamma' : [0.0001,0.001,0.01,0.1,1,10,100,'auto','scale']\n",
    "}\n",
    "svmt = RandomizedSearchCV(estimator = pipe,param_distributions = grid, cv=5,n_iter=100, random_state=1613)\n",
    "svmt.fit(X_train,y_train)\n",
    "accuracy_score(svmt.predict(X_test),y_test)"
   ]
  },
  {
   "cell_type": "code",
   "execution_count": 50,
   "id": "prospective-doctrine",
   "metadata": {},
   "outputs": [
    {
     "data": {
      "text/plain": [
       "0.9932249322493225"
      ]
     },
     "execution_count": 50,
     "metadata": {},
     "output_type": "execute_result"
    }
   ],
   "source": [
    "pipe = Pipeline([\n",
    "    ('feature_selection', SelectKBest(k=10)),\n",
    "    ('classifier',SVC(random_state=42))\n",
    "])\n",
    "grid = { 'classifier__C' : [6,8,10,12,14,16,18,20],\n",
    "              'classifier__kernel' : [\"rbf\"],\n",
    "              'classifier__gamma' : [0.05,0.1,0.2,0.3,0.5,'auto','scale'],\n",
    "}\n",
    "svmt = GridSearchCV(estimator = pipe,param_grid = grid, cv=5,scoring='accuracy')\n",
    "svmt.fit(X_train,y_train)\n",
    "accuracy_score(svmt.predict(X_test),y_test)"
   ]
  },
  {
   "cell_type": "code",
   "execution_count": 51,
   "id": "athletic-invasion",
   "metadata": {},
   "outputs": [],
   "source": [
    "svm_pred = svmt.predict(X_test)"
   ]
  },
  {
   "cell_type": "code",
   "execution_count": 52,
   "id": "superb-relative",
   "metadata": {
    "scrolled": false
   },
   "outputs": [
    {
     "data": {
      "text/plain": [
       "{'classifier__C': 8, 'classifier__gamma': 0.3, 'classifier__kernel': 'rbf'}"
      ]
     },
     "execution_count": 52,
     "metadata": {},
     "output_type": "execute_result"
    }
   ],
   "source": [
    "svmt.best_params_"
   ]
  },
  {
   "cell_type": "code",
   "execution_count": 67,
   "id": "exempt-wiring",
   "metadata": {
    "scrolled": false
   },
   "outputs": [
    {
     "data": {
      "text/plain": [
       "array([ 0,  1,  2,  3,  5,  6,  8,  9, 11, 12], dtype=int64)"
      ]
     },
     "execution_count": 67,
     "metadata": {},
     "output_type": "execute_result"
    }
   ],
   "source": [
    "# tutaj widzimy, które zmienne wybrał\n",
    "sel = SelectKBest(k=10).fit(X_train, y_train)\n",
    "sel.get_support(True)"
   ]
  },
  {
   "cell_type": "code",
   "execution_count": 53,
   "id": "negative-constitution",
   "metadata": {},
   "outputs": [
    {
     "data": {
      "text/html": [
       "<div>\n",
       "<style scoped>\n",
       "    .dataframe tbody tr th:only-of-type {\n",
       "        vertical-align: middle;\n",
       "    }\n",
       "\n",
       "    .dataframe tbody tr th {\n",
       "        vertical-align: top;\n",
       "    }\n",
       "\n",
       "    .dataframe thead th {\n",
       "        text-align: right;\n",
       "    }\n",
       "</style>\n",
       "<table border=\"1\" class=\"dataframe\">\n",
       "  <thead>\n",
       "    <tr style=\"text-align: right;\">\n",
       "      <th></th>\n",
       "      <th>accuracy</th>\n",
       "      <th>precision</th>\n",
       "      <th>recall</th>\n",
       "      <th>ROC AUC</th>\n",
       "    </tr>\n",
       "  </thead>\n",
       "  <tbody>\n",
       "    <tr>\n",
       "      <th>0</th>\n",
       "      <td>0.993225</td>\n",
       "      <td>0.997183</td>\n",
       "      <td>0.988827</td>\n",
       "      <td>0.993098</td>\n",
       "    </tr>\n",
       "  </tbody>\n",
       "</table>\n",
       "</div>"
      ],
      "text/plain": [
       "   accuracy  precision    recall   ROC AUC\n",
       "0  0.993225   0.997183  0.988827  0.993098"
      ]
     },
     "execution_count": 53,
     "metadata": {},
     "output_type": "execute_result"
    }
   ],
   "source": [
    "from sklearn.metrics import precision_score\n",
    "from sklearn.metrics import recall_score\n",
    "from sklearn.metrics import roc_auc_score\n",
    "results = {\n",
    "    \"accuracy\" : [accuracy_score(y_test,svm_pred)],\n",
    "    \"precision\" : [precision_score(y_test,svm_pred)],\n",
    "    \"recall\" :[recall_score(y_test,svm_pred)],\n",
    "    'ROC AUC' : [roc_auc_score(y_test,svm_pred)]\n",
    "}\n",
    "pd.DataFrame(results)\n"
   ]
  },
  {
   "cell_type": "code",
   "execution_count": 54,
   "id": "worse-upset",
   "metadata": {
    "scrolled": true
   },
   "outputs": [
    {
     "data": {
      "text/html": [
       "<div>\n",
       "<style scoped>\n",
       "    .dataframe tbody tr th:only-of-type {\n",
       "        vertical-align: middle;\n",
       "    }\n",
       "\n",
       "    .dataframe tbody tr th {\n",
       "        vertical-align: top;\n",
       "    }\n",
       "\n",
       "    .dataframe thead th {\n",
       "        text-align: right;\n",
       "    }\n",
       "</style>\n",
       "<table border=\"1\" class=\"dataframe\">\n",
       "  <thead>\n",
       "    <tr style=\"text-align: right;\">\n",
       "      <th></th>\n",
       "      <th>Actual positives</th>\n",
       "      <th>Actual negatives</th>\n",
       "    </tr>\n",
       "  </thead>\n",
       "  <tbody>\n",
       "    <tr>\n",
       "      <th>Positive predictions</th>\n",
       "      <td>354</td>\n",
       "      <td>4</td>\n",
       "    </tr>\n",
       "    <tr>\n",
       "      <th>Negative predictions</th>\n",
       "      <td>1</td>\n",
       "      <td>379</td>\n",
       "    </tr>\n",
       "  </tbody>\n",
       "</table>\n",
       "</div>"
      ],
      "text/plain": [
       "                      Actual positives  Actual negatives\n",
       "Positive predictions               354                 4\n",
       "Negative predictions                 1               379"
      ]
     },
     "execution_count": 54,
     "metadata": {},
     "output_type": "execute_result"
    }
   ],
   "source": [
    "from sklearn.metrics import confusion_matrix\n",
    "tn, fp, fn, tp = confusion_matrix(y_test, svm_pred).ravel()\n",
    "pd.DataFrame({\"Actual positives\": [tp, fp], \"Actual negatives\": [fn, tn]}, index = [\"Positive predictions\", \"Negative predictions\"])"
   ]
  },
  {
   "cell_type": "code",
   "execution_count": 55,
   "id": "indirect-package",
   "metadata": {},
   "outputs": [],
   "source": [
    "from sklearn.metrics import roc_curve, auc\n",
    "fpr, tpr, threshold = roc_curve(y_test,svm_pred)\n",
    "roc_auc = auc(fpr, tpr)"
   ]
  },
  {
   "cell_type": "code",
   "execution_count": 56,
   "id": "instructional-leather",
   "metadata": {},
   "outputs": [
    {
     "data": {
      "image/png": "[encoded data removed]",
      "text/plain": [
       "<Figure size 432x288 with 1 Axes>"
      ]
     },
     "metadata": {
      "needs_background": "light"
     },
     "output_type": "display_data"
    }
   ],
   "source": [
    "plt.title('Receiver Operating Characteristic')\n",
    "plt.plot(fpr, tpr, 'b', label = 'AUC = %0.2f' % roc_auc)\n",
    "plt.legend(loc = 'lower right')\n",
    "plt.plot([0, 1], [0, 1],'r--')\n",
    "plt.xlim([0, 1])\n",
    "plt.ylim([0, 1])\n",
    "plt.ylabel('True Positive Rate')\n",
    "plt.xlabel('False Positive Rate')\n",
    "plt.show()"
   ]
  }
 ],
 "metadata": {
  "kernelspec": {
   "display_name": "Python 3",
   "language": "python",
   "name": "python3"
  },
  "language_info": {
   "codemirror_mode": {
    "name": "ipython",
    "version": 3
   },
   "file_extension": ".py",
   "mimetype": "text/x-python",
   "name": "python",
   "nbconvert_exporter": "python",
   "pygments_lexer": "ipython3",
   "version": "3.8.10"
  }
 },
 "nbformat": 4,
 "nbformat_minor": 5
}
